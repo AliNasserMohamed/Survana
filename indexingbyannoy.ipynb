{
  "nbformat": 4,
  "nbformat_minor": 0,
  "metadata": {
    "colab": {
      "provenance": []
    },
    "kernelspec": {
      "name": "python3",
      "display_name": "Python 3"
    },
    "language_info": {
      "name": "python"
    }
  },
  "cells": [
    {
      "cell_type": "code",
      "source": [
        "!git clone https://github.com/spotify/annoy.git"
      ],
      "metadata": {
        "colab": {
          "base_uri": "https://localhost:8080/"
        },
        "id": "t_uAwtZG5KQ1",
        "outputId": "14247f3c-ca19-4e77-c301-592b18ad095c"
      },
      "execution_count": null,
      "outputs": [
        {
          "output_type": "stream",
          "name": "stdout",
          "text": [
            "Cloning into 'annoy'...\n",
            "remote: Enumerating objects: 3261, done.\u001b[K\n",
            "remote: Counting objects: 100% (387/387), done.\u001b[K\n",
            "remote: Compressing objects: 100% (160/160), done.\u001b[K\n",
            "remote: Total 3261 (delta 234), reused 325 (delta 218), pack-reused 2874\u001b[K\n",
            "Receiving objects: 100% (3261/3261), 1.98 MiB | 11.61 MiB/s, done.\n",
            "Resolving deltas: 100% (2000/2000), done.\n"
          ]
        }
      ]
    },
    {
      "cell_type": "code",
      "source": [
        "!cd annoy\n"
      ],
      "metadata": {
        "id": "epjOxlwr5O00"
      },
      "execution_count": null,
      "outputs": []
    },
    {
      "cell_type": "code",
      "source": [
        "!pip install annoy"
      ],
      "metadata": {
        "colab": {
          "base_uri": "https://localhost:8080/"
        },
        "id": "bIwjqpo35lMP",
        "outputId": "555de535-8ab7-4f66-c9bc-74e79140a16a"
      },
      "execution_count": null,
      "outputs": [
        {
          "output_type": "stream",
          "name": "stdout",
          "text": [
            "Collecting annoy\n",
            "  Downloading annoy-1.17.3.tar.gz (647 kB)\n",
            "\u001b[2K     \u001b[90m━━━━━━━━━━━━━━━━━━━━━━━━━━━━━━━━━━━━━━━━\u001b[0m \u001b[32m647.5/647.5 kB\u001b[0m \u001b[31m3.1 MB/s\u001b[0m eta \u001b[36m0:00:00\u001b[0m\n",
            "\u001b[?25h  Preparing metadata (setup.py) ... \u001b[?25l\u001b[?25hdone\n",
            "Building wheels for collected packages: annoy\n",
            "  Building wheel for annoy (setup.py) ... \u001b[?25l\u001b[?25hdone\n",
            "  Created wheel for annoy: filename=annoy-1.17.3-cp310-cp310-linux_x86_64.whl size=552449 sha256=79325e16a823886dab2c236e89b9b4d3cc29eb4940d944971a95b656154f6e92\n",
            "  Stored in directory: /root/.cache/pip/wheels/64/8a/da/f714bcf46c5efdcfcac0559e63370c21abe961c48e3992465a\n",
            "Successfully built annoy\n",
            "Installing collected packages: annoy\n",
            "Successfully installed annoy-1.17.3\n"
          ]
        }
      ]
    },
    {
      "cell_type": "code",
      "source": [
        "from annoy import AnnoyIndex\n",
        "import numpy as np"
      ],
      "metadata": {
        "id": "yDJOWAt255_B"
      },
      "execution_count": null,
      "outputs": []
    },
    {
      "cell_type": "markdown",
      "source": [
        "#create annoy"
      ],
      "metadata": {
        "id": "KopUOWhz5n39"
      }
    },
    {
      "cell_type": "code",
      "source": [
        "def create_annoy_index(embeddings, num_trees=10):\n",
        "    dim = embeddings.shape[1]\n",
        "    annoy_index = AnnoyIndex(dim, 'angular')  # Use 'angular' for cosine distance\n",
        "\n",
        "    # Add items to the index\n",
        "    for i, vec in enumerate(embeddings):\n",
        "        annoy_index.add_item(i, vec)\n",
        "\n",
        "    # Build the index\n",
        "    annoy_index.build(num_trees)\n",
        "\n",
        "    return annoy_index"
      ],
      "metadata": {
        "id": "OlixuFeR6Vfm"
      },
      "execution_count": null,
      "outputs": []
    },
    {
      "cell_type": "markdown",
      "source": [
        "#saving annoy"
      ],
      "metadata": {
        "id": "PjF-_Why59wi"
      }
    },
    {
      "cell_type": "code",
      "source": [
        "def save_index(annoy_index, index_path='annoy_index.ann'):\n",
        "    # Save the index to disk\n",
        "    annoy_index.save(index_path)\n",
        "    print(f\"Index saved to {index_path}\")\n"
      ],
      "metadata": {
        "id": "1YfVowZ16ADJ"
      },
      "execution_count": null,
      "outputs": []
    },
    {
      "cell_type": "code",
      "source": [
        "# Example usage\n",
        "if __name__ == '__main__':\n",
        "    # Assume embeddings are loaded here\n",
        "    embeddings = np.random.rand(1000, 128)  # Example: 1000 items, 128 dimensions\n",
        "    annoy_index = create_annoy_index(embeddings)\n",
        "    save_index(annoy_index)"
      ],
      "metadata": {
        "colab": {
          "base_uri": "https://localhost:8080/"
        },
        "id": "CkbfY7eH6J95",
        "outputId": "344cc08a-f9fe-4ed7-a248-e73fc0f733b2"
      },
      "execution_count": null,
      "outputs": [
        {
          "output_type": "stream",
          "name": "stdout",
          "text": [
            "Index saved to annoy_index.ann\n"
          ]
        }
      ]
    },
    {
      "cell_type": "markdown",
      "source": [
        "#Example"
      ],
      "metadata": {
        "id": "t5E5FSky7Vxw"
      }
    },
    {
      "cell_type": "code",
      "source": [
        "model = AnnoyIndex(f, 'angular')\n",
        "model.load('annoy_index.ann')\n",
        "\n",
        "# Query the index\n",
        "query_embedding = np.random.rand(128)  # Example query embedding\n",
        "nearest_neighbors = model.get_nns_by_vector(query_embedding, 10, include_distances=True)\n",
        "\n",
        "print(\"Nearest Neighbors:\", nearest_neighbors)"
      ],
      "metadata": {
        "colab": {
          "base_uri": "https://localhost:8080/"
        },
        "id": "4h5FICBs6OJJ",
        "outputId": "a22e59d2-8f1a-4c76-d264-d04fb4f3c0a0"
      },
      "execution_count": null,
      "outputs": [
        {
          "output_type": "stream",
          "name": "stdout",
          "text": [
            "Nearest Neighbors: ([166, 538, 265, 584, 532, 923, 248, 918, 468, 435], [0.5460707545280457, 0.6214272379875183, 0.6307244300842285, 0.6362393498420715, 0.6392801403999329, 0.6447305679321289, 0.6458387970924377, 0.6461421251296997, 0.6462928652763367, 0.6480563879013062])\n"
          ]
        }
      ]
    }
  ]
}